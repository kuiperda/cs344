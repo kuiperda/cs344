{
 "cells": [
  {
   "cell_type": "markdown",
   "metadata": {
    "collapsed": true
   },
   "source": [
    "# Reasoning using Bayes Networks"
   ]
  },
  {
   "cell_type": "markdown",
   "metadata": {},
   "source": [
    "**Inference by Enumeration**\n",
    "\n",
    "cf. `enumeration_ask()` from the AIMA text.\n",
    "\n",
    "$\\textbf{P}(X|\\textbf{e}) = \\alpha \\sum_y{\\textbf{P}(X, \\textbf{e}, \\textbf{y})}$\n",
    "\n",
    "This formula:\n",
    "- computes the probability distribution for a single variable, $X$, based on a set of observed values for evidence variables, $\\textbf{e}$.\n",
    "- adds the values of additional evidence variables, $\\textbf{y}$, as required by the network.\n",
    "\n",
    "See S. Thrun's discussion of this problem by following the AIMA link on the policies page and going through: Lesson 4, “Probability in AI”, Episodes 31–34, “General Bayes Net”\n"
   ]
  },
  {
   "cell_type": "markdown",
   "metadata": {},
   "source": [
    "These example computations are based on this Bayes Network from the AIMA text.\n",
    "\n",
    "![AIMA Figure 14.2](https://cs.calvin.edu/courses/cs/344/kvlinden/05bayesnets/images/figure14_2.png)\n"
   ]
  },
  {
   "cell_type": "markdown",
   "metadata": {},
   "source": [
    "**Example *causal* computation** \n",
    "\n",
    "This computes the probability that John calls given that there as been a burglary but no earthquake.\n",
    "\n",
    "$\\begin{aligned}\n",
    "    \\textbf{P}(J | b \\land \\neg e)\n",
    "        &= \\alpha \\sum_a{\\textbf{P}(J, a, b, \\neg e)} \\\\\n",
    "        &= \\alpha \\sum_a{\\textbf{P}(J|a) \\cdot P(a|b,\\neg e) \\cdot P(b) \\cdot P(\\neg e)} \\\\\n",
    "        &= \\alpha \\cdot P(b) \\cdot P(\\neg e) \\cdot \\sum_a{P(J|a) \\cdot P(a|b,-e)} \\\\\n",
    "        &= \\alpha \\cdot 0.001 \\cdot 0.998 \\cdot \\langle(0.9 \\cdot 0.94 + 0.05 \\cdot 0.06), (0.1 \\cdot 0.94 + 0.95 \\cdot 0.06)\\rangle \\\\\n",
    "        &= \\alpha \\langle0.000847, 0.000150698\\rangle \\\\\n",
    "        &= \\langle0.85, 0.15\\rangle\n",
    "    \\end{aligned}$\n"
   ]
  },
  {
   "cell_type": "markdown",
   "metadata": {},
   "source": [
    "**Example *diagnostic* computation** \n",
    "\n",
    "This computes the probability that there as been a burglary given that the alarm has rung.\n",
    "\n",
    "$\\begin{aligned}\n",
    "                \\textbf{P}(B | a)\n",
    "                    &= \\alpha \\sum_e{\\textbf{P}(B, e, a)} \\\\\n",
    "                    &= \\alpha \\sum_e{\\textbf{P}(B) * P(e) * P(a | B, e)} \\\\\n",
    "                    &= \\alpha * \\langle (0.001 * 0.002 * 0.95 + 0.001 * 0.998 * 0.94), (0.999 * 0.002 * 0.29 + 0.999 * 0.998 * 0.001)\\rangle \\\\\n",
    "                    &= \\alpha * \\langle0.00094002, 0.001576422\\rangle \\\\\n",
    "                    &= \\langle0.374, 0.626\\rangle\n",
    "                \\end{aligned}$\n"
   ]
  }
 ],
 "metadata": {
  "kernelspec": {
   "display_name": "Python 3",
   "language": "python",
   "name": "python3"
  },
  "language_info": {
   "codemirror_mode": {
    "name": "ipython",
    "version": 3
   },
   "file_extension": ".py",
   "mimetype": "text/x-python",
   "name": "python",
   "nbconvert_exporter": "python",
   "pygments_lexer": "ipython3",
   "version": "3.6.6"
  }
 },
 "nbformat": 4,
 "nbformat_minor": 1
}
