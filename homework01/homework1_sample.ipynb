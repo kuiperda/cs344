{
 "cells": [
  {
   "cell_type": "markdown",
   "metadata": {
    "collapsed": true
   },
   "source": [
    "# Homework 1"
   ]
  },
  {
   "cell_type": "markdown",
   "metadata": {},
   "source": [
    "## 1.1\n",
    "\n",
    "Introspection is an excellent way for humans to try to understand themselves better (and many of us could benefit from practicing it more often) but it doesn't offer much insight into how we can model our cognitive processes.\n",
    "    Introspection is much more about elucidating subconscious thoughts than identifying the processes that underly the act of thinking. The closest comparison that can be made is when someone realizes that they have a certain pattern of thought that leads them to act and react a certain way, but that doesn't answer the question of how the acts of thinking and reasoning work on a fundamental level, just how that person has learned to respond to their feelings. True, intelligence and reasoning have some connection to feelings and patterns of thought but the link is too subjective to use in modeling how the intelligence part really works."
   ]
  },
  {
   "cell_type": "markdown",
   "metadata": {},
   "source": [
    "## 1.2\n",
    "\n",
    "Describe your TSP problem formulation.\n",
    "\n",
    "1. Make a list of cities\n",
    "2. Make a random distance between each city\n",
    "\n",
    "to solve, try simulated annealing\n",
    "\n",
    "\n",
    "*in progress*\n"
   ]
  },
  {
   "cell_type": "code",
   "execution_count": null,
   "metadata": {},
   "outputs": [
    {
     "name": "stdout",
     "output_type": "stream",
     "text": [
      "Here's the problem formulation\n"
     ]
    }
   ],
   "source": [
    "print('Here\\'s the problem formulation')"
   ]
  },
  {
   "cell_type": "markdown",
   "metadata": {},
   "source": [
    "Describe your sample city-domain and how your code does on it."
   ]
  },
  {
   "cell_type": "code",
   "execution_count": null,
   "metadata": {},
   "outputs": [],
   "source": [
    "print('Here\\'s your code to run the TSP problem')"
   ]
  },
  {
   "cell_type": "markdown",
   "metadata": {},
   "source": [
    "Make some parting comments on this problem."
   ]
  },
  {
   "cell_type": "markdown",
   "metadata": {},
   "source": [
    "## 1.3\n",
    "\n",
    "Follow the same pattern for this problem."
   ]
  },
  {
   "cell_type": "code",
   "execution_count": 1,
   "metadata": {},
   "outputs": [
    {
     "name": "stdout",
     "output_type": "stream",
     "text": [
      "Here's yet more code\n"
     ]
    }
   ],
   "source": [
    "print('Here\\'s yet more code')"
   ]
  }
 ],
 "metadata": {
  "kernelspec": {
   "display_name": "Python 3",
   "language": "python",
   "name": "python3"
  },
  "language_info": {
   "codemirror_mode": {
    "name": "ipython",
    "version": 3
   },
   "file_extension": ".py",
   "mimetype": "text/x-python",
   "name": "python",
   "nbconvert_exporter": "python",
   "pygments_lexer": "ipython3",
   "version": "3.6.6"
  }
 },
 "nbformat": 4,
 "nbformat_minor": 1
}